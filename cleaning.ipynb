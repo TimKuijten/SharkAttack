{
 "cells": [
  {
   "cell_type": "markdown",
   "metadata": {},
   "source": [
    "# Lab | Matplotlib & Seaborn\n",
    "\n",
    "#### Import all the necessary libraries here:"
   ]
  },
  {
   "cell_type": "code",
   "execution_count": 262,
   "metadata": {},
   "outputs": [],
   "source": [
    "# Libraries\n",
    "import numpy as np\n",
    "import pandas as pd\n",
    "import re\n",
    "import seaborn as sns\n",
    "import datetime as dt\n",
    "import matplotlib.pyplot as plt"
   ]
  },
  {
   "attachments": {},
   "cell_type": "markdown",
   "metadata": {},
   "source": [
    "## Cleaning data"
   ]
  },
  {
   "cell_type": "code",
   "execution_count": 263,
   "metadata": {},
   "outputs": [
    {
     "name": "stdout",
     "output_type": "stream",
     "text": [
      "['Case Number', 'Date', 'Year', 'Type', 'Country', 'Area', 'Location', 'Activity', 'Name', 'Sex ', 'Age', 'Injury', 'Fatal (Y/N)', 'Time', 'Species ', 'Investigator or Source', 'pdf', 'href formula', 'href', 'Case Number.1', 'Case Number.2', 'original order', 'Unnamed: 22', 'Unnamed: 23']\n"
     ]
    }
   ],
   "source": [
    "df = pd.read_csv(r'C:\\Users\\Tim_K\\Ironhack\\project-I-pandas\\data\\attacks.csv', encoding= 'unicode_escape')\n",
    "df.sample()\n",
    "all_columns = df.columns.values.tolist()\n",
    "#Checking which columns we have in this dataframe\n",
    "print(all_columns)\n",
    "\n",
    "#There is 2 unnamed columns: 'Unnamed: 22' and 'Unnamed: 23', most entries in those column are nan so we drop those columns. \n",
    "df.drop(columns='Unnamed: 22', inplace=True)\n",
    "df.drop(columns='Unnamed: 23', inplace=True)"
   ]
  },
  {
   "cell_type": "code",
   "execution_count": null,
   "metadata": {},
   "outputs": [],
   "source": []
  },
  {
   "cell_type": "code",
   "execution_count": 264,
   "metadata": {},
   "outputs": [],
   "source": [
    "# There are a lot of NaN values, 17020 rows with only NaN values: we delete them all\n",
    "df_nan = df[df.isnull().all(axis=1)]\n",
    "df.dropna(how=\"all\", inplace=True)\n",
    "\n",
    "# There are still a lot of rows with mostly NaN values, we delete all rows that are for 75% or more NaN\n",
    "perc = 75.0\n",
    "min_count =  int(((100-perc)/100)*df.shape[1] + 1)\n",
    "df.dropna(axis=0, thresh=min_count, inplace=True)\n",
    "\n",
    "# We drop duplicates too\n",
    "df.drop_duplicates()\n",
    "\n",
    "# We rename this column so there is no blank space at the end\n",
    "df.rename(columns={'Species ':'Species'}, inplace=True)\n",
    "\n",
    "# There are a few columns that do not contain useful information, we drop them too\n",
    "df.drop(columns='Case Number', inplace=True)\n",
    "df.drop(columns='pdf', inplace=True)\n",
    "df.drop(columns='href formula', inplace=True)\n",
    "df.drop(columns='href', inplace=True)\n",
    "df.drop(columns='Investigator or Source', inplace=True)\n",
    "df.drop(columns='Case Number.1', inplace=True)\n",
    "df.drop(columns='Case Number.2', inplace=True)\n",
    "df.drop(columns='original order', inplace=True)\n",
    "\n",
    "\n"
   ]
  },
  {
   "cell_type": "code",
   "execution_count": 265,
   "metadata": {},
   "outputs": [],
   "source": [
    "# There are a lot of different format entries in the column 'Date', we change them so they all have the same format, otherwise nan\n",
    "df[\"Date\"] = df[\"Date\"].str.replace(r'^Reported\\s', '', regex=True)\n",
    "df[\"Date\"] = df[\"Date\"].str.replace(r'^[1-9]-', '0-', regex=True)\n",
    "df[\"Date\"] = df[\"Date\"].str.replace(r'^\\s', '', regex=True)\n",
    "df[\"Date\"] = df[\"Date\"].str.replace(r'^Before\\s', '', regex=True)\n",
    "df['Date'] = df['Date'].apply(lambda x: re.sub(r'(^w{3,})\\s', r'\\1-', x))\n",
    "df[\"Date\"] = df[\"Date\"].str.replace(r'^0-', '', regex=True)\n",
    "df[\"Date\"] = df[\"Date\"].str.replace(r'^--', '-', regex=True)\n",
    "df[\"Date\"] = df[\"Date\"].str.replace(r'^December ', 'Dec-', regex=True)\n",
    "df[\"Date\"] = df[\"Date\"].str.replace(r'^November ', 'Nov-', regex=True)\n",
    "df[\"Date\"] = df[\"Date\"].str.replace(r'^October ', 'Oct-', regex=True)\n",
    "df[\"Date\"] = df[\"Date\"].str.replace(r'^September ', 'Sep-', regex=True)\n",
    "df[\"Date\"] = df[\"Date\"].str.replace(r'^August ', 'Aug-', regex=True)\n",
    "df[\"Date\"] = df[\"Date\"].str.replace(r'^July', 'Jul-', regex=True)\n",
    "df[\"Date\"] = df[\"Date\"].str.replace(r'^June ', 'Jun-', regex=True)\n",
    "df[\"Date\"] = df[\"Date\"].str.replace(r'^May ', 'May-', regex=True)\n",
    "df[\"Date\"] = df[\"Date\"].str.replace(r'^March ', 'Mar-', regex=True)\n",
    "df[\"Date\"] = df[\"Date\"].str.replace(r'^February ', 'Feb-', regex=True)\n",
    "df[\"Date\"] = df[\"Date\"].str.replace(r'^January ', 'Jan-', regex=True)\n",
    "df[\"Date\"] = df[\"Date\"].str.replace(r'^Mid', '15', regex=True)\n",
    "df['Date'] = df['Date'].apply(lambda x: re.sub(r'(\\w{3,})(\\w{4})', r'\\1-\\2', x))\n",
    "df['Date'] = df['Date'].apply(lambda x: re.sub(r'^(?=\\d{2})\\d*(?=\\d{4}$)', '', x))\n",
    "df['Date'] = df['Date'].apply(lambda x: x if re.match(r'^\\d{2}-[a-zA-Z]{3}-\\d{4}$', x) else np.nan)\n",
    "\n"
   ]
  },
  {
   "cell_type": "code",
   "execution_count": 266,
   "metadata": {},
   "outputs": [],
   "source": [
    "# First we change everything in this column to numbers\n",
    "df[\"Year\"] = pd.to_numeric(df[\"Year\"], errors='coerce')\n",
    "# Changing all values that are lower than 1000 to nan\n",
    "df[\"Year\"] = df[\"Year\"].apply(lambda x: np.nan if x < 1000 and not pd.isna(x) else x)\n",
    "# Changing all floats to integers\n",
    "df[\"Year\"] = df[\"Year\"].apply(lambda x: int(x) if isinstance(x, float) and not pd.isna(x) else x)\n",
    "# Everything that isnt 4 characters to nan\n",
    "df[\"Year\"] = df[\"Year\"].apply(lambda x: str(x)[:-2] if len(str(x)) > 4 and not pd.isna(x) else x)"
   ]
  },
  {
   "cell_type": "code",
   "execution_count": 267,
   "metadata": {},
   "outputs": [],
   "source": [
    "# If entries in 'Type' are different than provoked or unprovoked, change to nan\n",
    "valid_values_type = ['Provoked', 'Unprovoked']\n",
    "df.loc[~df['Type'].isin(valid_values_type), 'Type'] = np.nan\n"
   ]
  },
  {
   "cell_type": "code",
   "execution_count": 268,
   "metadata": {},
   "outputs": [],
   "source": [
    "# There are lots of entries with 'ocean' in the name, we change them to nan as that arent countries.\n",
    "df.loc[df['Country'].str.contains('Ocean', case=False, na=False), 'Country'] = np.nan\n",
    "# Also remove all white spaces at the beginning of entries \n",
    "df[\"Area\"] = df[\"Area\"].str.replace(r'^\\s', '', regex=True)\n",
    "\n",
    "# There are a lot of different names for more or less the same activies, with the dictionary below we make sure they fall into the same category.\n",
    "activity_map = {\n",
    "    'Kite surfing': 'Surfing',\n",
    "    'Boogie boarding': 'Surfing',\n",
    "    'Boogie Boarding': 'Surfing',\n",
    "    'Windsurfing': 'Surfing',\n",
    "    'Paddle-skiing': 'Paddling',\n",
    "    'Body boarding': 'Surfing',\n",
    "    'Stand-Up Paddleboarding': 'Surfing',\n",
    "    'Wading': 'Fishing',\n",
    "    'Kayak fishing for sharks': 'Fishing',\n",
    "    'Spearfishing': 'Fishing',\n",
    "    'Free diving': 'Diving',\n",
    "    'Fishing / Wading': 'Fishing',\n",
    "    'Scuba diving': 'Diving',\n",
    "    'Scuba Dving': 'Diving',\n",
    "    'Stand-Up Paddleboarding': 'Paddling',\n",
    "    'Floating': 'Swimming',\n",
    "    'Shark Fishing': 'Fishing',\n",
    "    'Pearl diving': 'Diving',\n",
    "    'Treading water': 'Swimming',\n",
    "    'Body surfing': 'Surfing',\n",
    "    'Fishing ': 'Fishing',\n",
    "    'Shark fishing': 'Fishing',\n",
    "    'Canoeing': 'Rowing',\n",
    "    'Kayaking': 'Rowing',\n",
    "    'Surf fishing': 'Fishing',\n",
    "    'Surf-skiing': 'Surfing',\n",
    "    'Surf skiing': 'Surfing',\n",
    "    'Kayak Fishing': 'Fishing',\n",
    "    'Fishing for sharks': 'Fishing',\n",
    "    'Sponge diving': 'Diving',\n",
    "    'Scuba Diving': 'Diving',\n",
    "    'Freediving': 'Diving',\n",
    "    'Sitting on surfboard': 'Surfing',\n",
    "    'Diving for trochus': 'Diving',\n",
    "    'Sailing' : 'Boating',\n",
    "    'Paddle boarding' : 'Paddling',\n",
    "    'Surf skiing' : 'Surfing',\n",
    "    'Spearfishing' : 'Fishing',\n",
    "    'Diving for abalone' : 'Diving',\n",
    "    'Skindiving' : 'Diving',\n",
    "    'Floating on his back' : 'Swimming',\n",
    "    'Free diving for abalone' : 'Diving',\n",
    "    'Surfing (sitting on his board)':'Surfing',\n",
    "    'Kite Surfing':'Surfing',\n",
    "    'Spearfishing on Scuba':'Fishing',\n",
    "    'Fishing for mackerel':'Fishing',\n",
    "    'Shipwreck':'Sea Disaster'\n",
    "}\n",
    "# Now we replace all this 'alternative descriptions' of the activities so they are the same\n",
    "df['Activity'] = df['Activity'].replace(activity_map)\n",
    "# We turn this dictionary values into a list\n",
    "common_activities = (activity_map.values())\n"
   ]
  },
  {
   "cell_type": "code",
   "execution_count": 269,
   "metadata": {},
   "outputs": [],
   "source": [
    "\n",
    "#Removing the white spaces at the beginning\n",
    "df[\"Age\"] = df[\"Age\"].str.replace(r'^\\s{1,}', '', regex=True)\n",
    "#Removing letters that are written before a number\n",
    "df[\"Age\"] = df[\"Age\"].str.replace(r'^[a-zA-Z]{1,}', '', regex=True)\n",
    "# First we change everything in this column to numbers\n",
    "df[\"Age\"] = pd.to_numeric(df[\"Age\"], errors='coerce')\n",
    "#We change everything that isn't 1 or 2 strings to nan\n",
    "df['Age'] = df['Age'].apply(lambda x: np.nan if (len(str(x)) != 1 and len(str(x)) != 2) else x)\n"
   ]
  },
  {
   "cell_type": "code",
   "execution_count": 270,
   "metadata": {},
   "outputs": [],
   "source": [
    "#We change all entries to capital letters\n",
    "df['Fatal (Y/N)'] = df['Fatal (Y/N)'].str.upper()\n",
    "#Removing white spaces before\n",
    "df[\"Fatal (Y/N)\"] = df[\"Fatal (Y/N)\"].str.replace(r'^\\s', '', regex=True)\n",
    "#Changing everything that isnt 'Y' 'N' or 'UNKNOWN' to nan\n",
    "df['Fatal (Y/N)'] = df['Fatal (Y/N)'].where(df['Fatal (Y/N)'].isin(['Y', 'N', 'UNKNOWN']), np.nan)"
   ]
  },
  {
   "cell_type": "code",
   "execution_count": 271,
   "metadata": {},
   "outputs": [
    {
     "name": "stderr",
     "output_type": "stream",
     "text": [
      "C:\\Users\\Tim_K\\AppData\\Local\\Temp\\ipykernel_1348\\3340029913.py:50: SettingWithCopyWarning: \n",
      "A value is trying to be set on a copy of a slice from a DataFrame\n",
      "\n",
      "See the caveats in the documentation: https://pandas.pydata.org/pandas-docs/stable/user_guide/indexing.html#returning-a-view-versus-a-copy\n",
      "  time_column.iloc[i] = match.group(1)\n",
      "C:\\Users\\Tim_K\\AppData\\Local\\Temp\\ipykernel_1348\\3340029913.py:56: SettingWithCopyWarning: \n",
      "A value is trying to be set on a copy of a slice from a DataFrame\n",
      "\n",
      "See the caveats in the documentation: https://pandas.pydata.org/pandas-docs/stable/user_guide/indexing.html#returning-a-view-versus-a-copy\n",
      "  time_column.iloc[i] = np.nan\n"
     ]
    }
   ],
   "source": [
    "#Removing white spaces at beginning\n",
    "df[\"Time\"] = df[\"Time\"].str.replace(r'^\\s', '', regex=True)\n",
    "#Removing '-' symbols at beginning\n",
    "df[\"Time\"] = df[\"Time\"].str.replace(r'-', '', regex=True)\n",
    "\n",
    "#There are a lot of entries that have xxhxx instead of xx:xx, we find them and replace it \n",
    "pattern = r'^([0-9]{2})([A-Za-z]{1})([0-9]{2})$'\n",
    "#We change format of the entries so it meets the pattern\n",
    "df['Time'] = df['Time'].str.replace(pattern, r'\\1h\\3', regex=True)\n",
    "\n",
    "#There are a lot of textual descritpions of time, to change them to numbers we have this dictionary below\n",
    "time_map = {\n",
    "    'Midday': '12:00',\n",
    "    'Morning':'09:00',\n",
    "    'Midnight':'00:00',\n",
    "    'Evening':'20:00',\n",
    "    'Early Afternoon':'13:00',\n",
    "    'Just before noon': '11:00',\n",
    "    'Early morning': '07:00',\n",
    "    'Early Morning': '07:00',\n",
    "    'A.M.' : '12:00',\n",
    "    'AM' : '12:00',\n",
    "    'Lunchtime':'13:00',\n",
    "    'Afternoon':'15:00',\n",
    "    'After noon':'15:00',\n",
    "    'Evening':'21:00',\n",
    "    'Late morning':'11:00',\n",
    "    'Noon':'12:00',\n",
    "    'Mid afternoon':'15:00',\n",
    "    'Mid morning':'10:30',\n",
    "    'Midmorning':'10:30',\n",
    "    'After lunch':'15:00',\n",
    "    'Midday':'12:00',\n",
    "    'After midnight':'02:00',\n",
    "    'Late afternon':'17:00',\n",
    "    'Late Afternoon':'17:00',\n",
    "    'Early evening':'19:00'\n",
    "}\n",
    "# Now we update those textual descriptions of time to numbers matching in the dictionary\n",
    "df['Time'] = df['Time'].replace(time_map)\n",
    "\n",
    "# \n",
    "time_column = df['Time']\n",
    "pattern = re.compile(r'^.*?(\\d{2}[a-zA-Z]\\d{2})')\n",
    "#\n",
    "for i, time in enumerate(time_column):\n",
    "    if time and isinstance(time, str):\n",
    "        match = re.search(pattern, time)\n",
    "        if match:\n",
    "            time_column.iloc[i] = match.group(1)\n",
    "#\n",
    "for i, time in enumerate(time_column):\n",
    "    if time and isinstance(time, str):\n",
    "        match = re.search(pattern, time)\n",
    "        if not match:\n",
    "            time_column.iloc[i] = np.nan\n",
    "\n"
   ]
  },
  {
   "cell_type": "code",
   "execution_count": 272,
   "metadata": {},
   "outputs": [],
   "source": [
    "#In the Species column there are a lot of different ways refering to the same type, here we make sure that everything that contains 'tiger' will be 'Tiger shark' etc\n",
    "df.loc[df['Species'].notna() & df['Species'].str.contains('(?i)tiger'), 'Species'] = 'Tiger shark'\n",
    "df.loc[df['Species'].notna() & df['Species'].str.contains('(?i)white'), 'Species'] = 'White shark'\n",
    "df.loc[df['Species'].notna() & df['Species'].str.contains('(?i)bull'), 'Species'] = 'Bull shark'\n",
    "df.loc[df['Species'].notna() & df['Species'].str.contains('(?i)tawny'), 'Species'] = 'Tawny nurse shark'\n",
    "df.loc[df['Species'].notna() & df['Species'].str.contains('(?i)lemon'), 'Species'] = 'Lemon shark'\n",
    "df.loc[df['Species'].notna() & df['Species'].str.contains('(?i)wobbegong'), 'Species'] = 'Wobbegong shark'\n",
    "df.loc[df['Species'].notna() & df['Species'].str.contains('(?i)spinner'), 'Species'] = 'Spinner shark'\n",
    "df.loc[df['Species'].notna() & df['Species'].str.contains('(?i)blacktip'), 'Species'] = 'Blacktip shark'\n",
    "df.loc[df['Species'].notna() & df['Species'].str.contains('(?i)blue'), 'Species'] = 'Blue shark'\n",
    "df.loc[df['Species'].notna() & df['Species'].str.contains('(?i)gill'), 'Species'] = 'Gill shark'\n",
    "df.loc[df['Species'].notna() & df['Species'].str.contains('(?i)whale'), 'Species'] = 'Whale shark'\n",
    "\n",
    "#List of the most common shark species \n",
    "common_sharks = ('Tiger shark', 'White shark', 'Bull shark', 'Tawny nurse shark', \n",
    "'Lemon shark', 'Wobbegong shark', 'Spinner shark', 'Blacktip shark', 'Blue shark', 'Gill shark', 'Whale shark')\n",
    " "
   ]
  },
  {
   "cell_type": "code",
   "execution_count": 273,
   "metadata": {},
   "outputs": [
    {
     "data": {
      "image/png": "[encoded data removed]",
      "text/plain": [
       "<Figure size 432x288 with 1 Axes>"
      ]
     },
     "metadata": {
      "needs_background": "light"
     },
     "output_type": "display_data"
    }
   ],
   "source": [
    "df['Date'] = pd.to_datetime(df['Date'])\n",
    "\n",
    "df = df[(df['Date'] >= datetime(2000, 11, 1)) & (df['Date'] <= datetime(2008, 11, 1))]\n",
    "\n",
    "df['Before/After'] = np.where(df['Date'] < datetime(2004, 11, 1), 'Before', 'After')\n",
    "\n",
    "attacks_by_time = df.groupby(['Before/After']).size().reset_index(name='Count')\n",
    "\n",
    "\n",
    "sns.barplot(x='Before/After', y='Count', data=attacks_by_time, palette=['#023167',\"#50afcf\"])\n",
    "plt.xlabel('Time')\n",
    "plt.ylabel('Number of Attacks')\n",
    "plt.title('Total shark attacks in 4 years before and after Shark Tale release')\n",
    "plt.show()"
   ]
  },
  {
   "cell_type": "code",
   "execution_count": 274,
   "metadata": {},
   "outputs": [
    {
     "name": "stderr",
     "output_type": "stream",
     "text": [
      "C:\\Users\\Tim_K\\AppData\\Local\\Temp\\ipykernel_1348\\3801084930.py:3: SettingWithCopyWarning: \n",
      "A value is trying to be set on a copy of a slice from a DataFrame.\n",
      "Try using .loc[row_indexer,col_indexer] = value instead\n",
      "\n",
      "See the caveats in the documentation: https://pandas.pydata.org/pandas-docs/stable/user_guide/indexing.html#returning-a-view-versus-a-copy\n",
      "  df_white_sharks['Before/After'] = np.where(df_white_sharks['Date'] < datetime(2004, 11, 1), 'Before', 'After')\n"
     ]
    },
    {
     "data": {
      "image/png": "[encoded data removed]",
      "text/plain": [
       "<Figure size 432x288 with 1 Axes>"
      ]
     },
     "metadata": {
      "needs_background": "light"
     },
     "output_type": "display_data"
    }
   ],
   "source": [
    "df_white_sharks = df[(df['Species'] == 'White shark') & (df['Date'] >= datetime(2000, 11, 1)) & (df['Date'] <= datetime(2008, 11, 1))]\n",
    "\n",
    "df_white_sharks['Before/After'] = np.where(df_white_sharks['Date'] < datetime(2004, 11, 1), 'Before', 'After')\n",
    "\n",
    "attacks_by_time = df_white_sharks.groupby(['Before/After']).size().reset_index(name='Count')\n",
    "\n",
    "sns.barplot(x='Before/After', y='Count', data=attacks_by_time)\n",
    "plt.xlabel('Time')\n",
    "plt.ylabel('Number of Attacks')\n",
    "plt.title('Total White shark attacks in 4 years before and after Shark Tale release')\n",
    "plt.show()"
   ]
  },
  {
   "cell_type": "code",
   "execution_count": 275,
   "metadata": {},
   "outputs": [
    {
     "data": {
      "image/png": "[encoded data removed]",
      "text/plain": [
       "<Figure size 432x288 with 1 Axes>"
      ]
     },
     "metadata": {
      "needs_background": "light"
     },
     "output_type": "display_data"
    }
   ],
   "source": [
    "df['Date'] = pd.to_datetime(df['Date'])\n",
    "\n",
    "common_sharks = ('Tiger shark', 'White shark', 'Bull shark', 'Tawny nurse shark', \n",
    "'Lemon shark', 'Wobbegong shark', 'Spinner shark', 'Blacktip shark', 'Blue shark', 'Gill shark', 'Whale shark')\n",
    "\n",
    "df = df[df['Species'].isin(common_sharks) & (df['Date'] >= datetime(2000, 11, 1)) & (df['Date'] <= datetime(2008, 11, 1))]\n",
    "\n",
    "df['Before/After'] = np.where(df['Date'] < datetime(2004, 11, 1), 'Before', 'After')\n",
    "\n",
    "attacks_by_time = df.groupby(['Before/After', 'Species']).size().reset_index(name='Count')\n",
    "\n",
    "sns.barplot(x='Species', y='Count', hue='Before/After', data=attacks_by_time, palette=['#023167',\"#50afcf\"])\n",
    "plt.xlabel('Species')\n",
    "plt.ylabel('Number of Attacks')\n",
    "plt.title('Total shark attacks by most common species in 4 years before and after Shark Tale release')\n",
    "plt.xticks(rotation=60)\n",
    "plt.show()"
   ]
  },
  {
   "cell_type": "code",
   "execution_count": 276,
   "metadata": {},
   "outputs": [
    {
     "data": {
      "image/png": "[encoded data removed]",
      "text/plain": [
       "<Figure size 432x288 with 1 Axes>"
      ]
     },
     "metadata": {
      "needs_background": "light"
     },
     "output_type": "display_data"
    }
   ],
   "source": [
    "df_white_sharks = df[(df['Species'] == 'White shark') & (df['Activity'].isin(common_activities))]\n",
    "df = df[(df['Date'] >= datetime(2000, 11, 1)) & (df['Date'] <= datetime(2008, 11, 1))]\n",
    "df_white_sharks['Before/After'] = np.where(df_white_sharks['Date'] < datetime(2004, 11, 1), 'Before', 'After')\n",
    "\n",
    "sns.countplot(x='Activity', hue='Before/After', data=df_white_sharks)\n",
    "plt.xlabel('Activity')\n",
    "plt.ylabel('Number of Attacks')\n",
    "plt.title('White Shark attacks by activity in 4 years before and after the release of Shark tale')\n",
    "plt.show()"
   ]
  },
  {
   "cell_type": "code",
   "execution_count": 287,
   "metadata": {},
   "outputs": [
    {
     "data": {
      "image/png": "[encoded data removed]",
      "text/plain": [
       "<Figure size 432x288 with 1 Axes>"
      ]
     },
     "metadata": {
      "needs_background": "light"
     },
     "output_type": "display_data"
    }
   ],
   "source": [
    "df_common_sharks = df[(df['Species'].isin(common_sharks)) & (df['Activity'].isin(common_activities))]\n",
    "df = df_common_sharks[(df_common_sharks['Date'] >= datetime(2000, 11, 1)) & (df_common_sharks['Date'] <= datetime(2008, 11, 1))]\n",
    "df_common_sharks['Before/After'] = np.where(df_common_sharks['Date'] < datetime(2004, 11, 1), 'Before', 'After')\n",
    "\n",
    "sns.countplot(x='Activity', hue='Before/After', data=df_common_sharks, palette=['#023167',\"#50afcf\"])\n",
    "plt.xlabel('Activity')\n",
    "plt.ylabel('Number of Attacks')\n",
    "plt.title('Shark attacks by activity in 4 years before and after 2004')\n",
    "plt.show()"
   ]
  },
  {
   "cell_type": "code",
   "execution_count": 280,
   "metadata": {},
   "outputs": [
    {
     "name": "stderr",
     "output_type": "stream",
     "text": [
      "C:\\Users\\Tim_K\\AppData\\Local\\Temp\\ipykernel_1348\\2133797674.py:3: SettingWithCopyWarning: \n",
      "A value is trying to be set on a copy of a slice from a DataFrame.\n",
      "Try using .loc[row_indexer,col_indexer] = value instead\n",
      "\n",
      "See the caveats in the documentation: https://pandas.pydata.org/pandas-docs/stable/user_guide/indexing.html#returning-a-view-versus-a-copy\n",
      "  filtered_df['Month_Year'] = filtered_df['Date'].apply(lambda x: dt.datetime.strftime(x, '%Y-%m'))\n"
     ]
    },
    {
     "data": {
      "image/png": "[encoded data removed]",
      "text/plain": [
       "<Figure size 432x288 with 1 Axes>"
      ]
     },
     "metadata": {
      "needs_background": "light"
     },
     "output_type": "display_data"
    }
   ],
   "source": [
    "\n",
    "\n",
    "filtered_df = df[(df['Species'] == 'White shark') & (df['Date'] >= '2003-11-01') & (df['Date'] <= '2005-11-01')]\n",
    "\n",
    "filtered_df['Month_Year'] = filtered_df['Date'].apply(lambda x: dt.datetime.strftime(x, '%Y-%m'))\n",
    "\n",
    "grouped_df = filtered_df.groupby(['Month_Year']).size().reset_index(name='Count')\n",
    "\n",
    "sns.lineplot(x='Month_Year', y='Count', data=grouped_df.sort_values(by='Month_Year'))\n",
    "plt.xlabel('Month and Year')\n",
    "plt.ylabel('Number of Attacks')\n",
    "plt.title('White Shark Attacks by Month and Year (Nov 2003 - Nov 2005)')\n",
    "plt.xticks(rotation=60)\n",
    "plt.axvline('2004-11', color='red', label='Release of Shark tale')\n",
    "plt.legend()\n",
    "plt.show()"
   ]
  },
  {
   "cell_type": "code",
   "execution_count": 238,
   "metadata": {},
   "outputs": [
    {
     "name": "stderr",
     "output_type": "stream",
     "text": [
      "C:\\Users\\Tim_K\\AppData\\Local\\Temp\\ipykernel_1348\\3109381499.py:6: SettingWithCopyWarning: \n",
      "A value is trying to be set on a copy of a slice from a DataFrame.\n",
      "Try using .loc[row_indexer,col_indexer] = value instead\n",
      "\n",
      "See the caveats in the documentation: https://pandas.pydata.org/pandas-docs/stable/user_guide/indexing.html#returning-a-view-versus-a-copy\n",
      "  filtered_df['Month_Year'] = filtered_df['Date'].apply(lambda x: dt.datetime.strftime(x, '%Y-%m'))\n"
     ]
    },
    {
     "data": {
      "image/png": "[encoded data removed]",
      "text/plain": [
       "<Figure size 432x288 with 1 Axes>"
      ]
     },
     "metadata": {
      "needs_background": "light"
     },
     "output_type": "display_data"
    }
   ],
   "source": [
    "\n",
    "\n",
    "filtered_df = df[(df['Species'].isin(common_sharks)) & (df['Date'] >= '2003-11-01') & (df['Date'] <= '2005-11-01')]\n",
    "\n",
    "filtered_df['Month_Year'] = filtered_df['Date'].apply(lambda x: dt.datetime.strftime(x, '%Y-%m'))\n",
    "\n",
    "grouped_df = filtered_df.groupby(['Month_Year']).size().reset_index(name='Count')\n",
    "\n",
    "\n",
    "sns.lineplot(x='Month_Year', y='Count', data=grouped_df.sort_values(by='Month_Year'))\n",
    "plt.xlabel('Month and Year')\n",
    "plt.ylabel('Number of Attacks')\n",
    "plt.title('Shark Attacks by Month and Year (Nov 2003 - Nov 2005)')\n",
    "plt.xticks(rotation=60)\n",
    "plt.axvline('2004-11', color='red', label='Release of Shark tale')\n",
    "plt.legend()\n",
    "plt.show()"
   ]
  },
  {
   "attachments": {},
   "cell_type": "markdown",
   "metadata": {},
   "source": []
  },
  {
   "cell_type": "code",
   "execution_count": null,
   "metadata": {
    "scrolled": true
   },
   "outputs": [],
   "source": []
  },
  {
   "attachments": {},
   "cell_type": "markdown",
   "metadata": {},
   "source": []
  },
  {
   "cell_type": "code",
   "execution_count": null,
   "metadata": {},
   "outputs": [],
   "source": []
  },
  {
   "attachments": {},
   "cell_type": "markdown",
   "metadata": {},
   "source": []
  },
  {
   "cell_type": "code",
   "execution_count": null,
   "metadata": {},
   "outputs": [],
   "source": []
  },
  {
   "cell_type": "code",
   "execution_count": null,
   "metadata": {},
   "outputs": [],
   "source": []
  },
  {
   "attachments": {},
   "cell_type": "markdown",
   "metadata": {},
   "source": []
  },
  {
   "cell_type": "code",
   "execution_count": null,
   "metadata": {},
   "outputs": [],
   "source": []
  },
  {
   "attachments": {},
   "cell_type": "markdown",
   "metadata": {},
   "source": []
  },
  {
   "cell_type": "code",
   "execution_count": null,
   "metadata": {},
   "outputs": [],
   "source": []
  },
  {
   "attachments": {},
   "cell_type": "markdown",
   "metadata": {},
   "source": []
  },
  {
   "cell_type": "code",
   "execution_count": null,
   "metadata": {},
   "outputs": [],
   "source": []
  },
  {
   "attachments": {},
   "cell_type": "markdown",
   "metadata": {},
   "source": []
  },
  {
   "cell_type": "code",
   "execution_count": null,
   "metadata": {},
   "outputs": [],
   "source": []
  },
  {
   "attachments": {},
   "cell_type": "markdown",
   "metadata": {},
   "source": []
  },
  {
   "cell_type": "code",
   "execution_count": null,
   "metadata": {},
   "outputs": [],
   "source": []
  },
  {
   "attachments": {},
   "cell_type": "markdown",
   "metadata": {},
   "source": []
  },
  {
   "cell_type": "code",
   "execution_count": null,
   "metadata": {},
   "outputs": [],
   "source": []
  },
  {
   "cell_type": "code",
   "execution_count": null,
   "metadata": {},
   "outputs": [],
   "source": []
  },
  {
   "attachments": {},
   "cell_type": "markdown",
   "metadata": {},
   "source": []
  },
  {
   "cell_type": "code",
   "execution_count": null,
   "metadata": {},
   "outputs": [],
   "source": []
  },
  {
   "attachments": {},
   "cell_type": "markdown",
   "metadata": {},
   "source": []
  },
  {
   "cell_type": "code",
   "execution_count": null,
   "metadata": {},
   "outputs": [],
   "source": []
  },
  {
   "cell_type": "code",
   "execution_count": null,
   "metadata": {},
   "outputs": [],
   "source": []
  },
  {
   "attachments": {},
   "cell_type": "markdown",
   "metadata": {},
   "source": []
  },
  {
   "cell_type": "code",
   "execution_count": null,
   "metadata": {},
   "outputs": [],
   "source": []
  },
  {
   "attachments": {},
   "cell_type": "markdown",
   "metadata": {},
   "source": []
  },
  {
   "cell_type": "code",
   "execution_count": null,
   "metadata": {},
   "outputs": [],
   "source": []
  },
  {
   "attachments": {},
   "cell_type": "markdown",
   "metadata": {},
   "source": []
  },
  {
   "cell_type": "code",
   "execution_count": null,
   "metadata": {},
   "outputs": [],
   "source": []
  },
  {
   "attachments": {},
   "cell_type": "markdown",
   "metadata": {},
   "source": []
  },
  {
   "cell_type": "code",
   "execution_count": null,
   "metadata": {},
   "outputs": [],
   "source": [
    "        "
   ]
  },
  {
   "cell_type": "code",
   "execution_count": null,
   "metadata": {},
   "outputs": [],
   "source": []
  },
  {
   "attachments": {},
   "cell_type": "markdown",
   "metadata": {},
   "source": []
  },
  {
   "cell_type": "code",
   "execution_count": null,
   "metadata": {},
   "outputs": [],
   "source": []
  },
  {
   "attachments": {},
   "cell_type": "markdown",
   "metadata": {},
   "source": []
  },
  {
   "cell_type": "code",
   "execution_count": null,
   "metadata": {},
   "outputs": [],
   "source": []
  },
  {
   "attachments": {},
   "cell_type": "markdown",
   "metadata": {},
   "source": []
  },
  {
   "cell_type": "code",
   "execution_count": null,
   "metadata": {
    "scrolled": true
   },
   "outputs": [],
   "source": []
  },
  {
   "attachments": {},
   "cell_type": "markdown",
   "metadata": {},
   "source": []
  },
  {
   "cell_type": "code",
   "execution_count": null,
   "metadata": {},
   "outputs": [],
   "source": []
  }
 ],
 "metadata": {
  "anaconda-cloud": {},
  "kernelspec": {
   "display_name": "ironhack",
   "language": "python",
   "name": "ironhack"
  },
  "language_info": {
   "codemirror_mode": {
    "name": "ipython",
    "version": 3
   },
   "file_extension": ".py",
   "mimetype": "text/x-python",
   "name": "python",
   "nbconvert_exporter": "python",
   "pygments_lexer": "ipython3",
   "version": "3.10.8"
  },
  "toc": {
   "base_numbering": 1,
   "nav_menu": {},
   "number_sections": true,
   "sideBar": true,
   "skip_h1_title": true,
   "title_cell": "Table of Contents",
   "title_sidebar": "Contents",
   "toc_cell": false,
   "toc_position": {},
   "toc_section_display": true,
   "toc_window_display": false
  }
 },
 "nbformat": 4,
 "nbformat_minor": 1
}
